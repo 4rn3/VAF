{
 "cells": [
  {
   "cell_type": "code",
   "execution_count": 130,
   "metadata": {},
   "outputs": [],
   "source": [
    "import numpy as np\n",
    "import pandas as pd\n",
    "\n",
    "import matplotlib.pyplot as plt\n",
    "import seaborn as sb\n",
    "\n",
    "from sklearn.model_selection import train_test_split\n",
    "from sklearn.decomposition import PCA\n",
    "from sklearn.manifold import TSNE\n",
    "\n",
    "import torch\n",
    "import torch.nn as nn\n",
    "from torch.utils.data import Dataset, DataLoader\n",
    "import torch.optim as optim\n",
    "\n",
    "from tqdm import tqdm\n",
    "\n",
    "from uncoditioned_epsilon_theta_networks import TransEncoder"
   ]
  },
  {
   "cell_type": "code",
   "execution_count": 131,
   "metadata": {},
   "outputs": [],
   "source": [
    "class Sine_Pytorch(torch.utils.data.Dataset):\n",
    "    \n",
    "    def __init__(self, no_samples, seq_len, features):\n",
    "        \n",
    "        self.data = []\n",
    "        \n",
    "        for i in range(no_samples):\n",
    "            \n",
    "            temp = []\n",
    "            \n",
    "            for k in range(features):\n",
    "                \n",
    "                freq = np.random.uniform(0, 0.1)\n",
    "                \n",
    "                phase = np.random.uniform(0, 0.1)\n",
    "                \n",
    "                temp_data = [np.sin(freq*j + phase) for j in range(seq_len)]\n",
    "                \n",
    "                temp.append(temp_data)\n",
    "                \n",
    "            temp = np.transpose(np.asarray(temp))\n",
    "            \n",
    "            temp = (temp + 1) * 0.5\n",
    "            \n",
    "            self.data.append(temp)\n",
    "        \n",
    "        self.data = np.asarray(self.data, dtype = np.float32)\n",
    "        \n",
    "    def __len__(self):\n",
    "        \n",
    "        return self.data.shape[0]\n",
    "    \n",
    "    def __getitem__(self, idx):\n",
    "        \n",
    "        return self.data[idx, :, :]\n",
    "    \n",
    "\n",
    "def LoadData(seq_len, num_var):\n",
    "    data = Sine_Pytorch(5000, seq_len, num_var)\n",
    "    train_data, test_data = train_test_split(data, train_size = 0.8, random_state = 2021)\n",
    "    return train_data, test_data"
   ]
  },
  {
   "cell_type": "code",
   "execution_count": 132,
   "metadata": {},
   "outputs": [
    {
     "name": "stdout",
     "output_type": "stream",
     "text": [
      "Train data shape: (4000, 7, 1)\n",
      "Train data shape transposed: (4000, 1, 7)\n",
      "batched data shape: torch.Size([32, 1, 7])\n",
      "tensor([[0.5374, 0.5765, 0.6151, 0.6530, 0.6900, 0.7258, 0.7602]])\n"
     ]
    }
   ],
   "source": [
    "seq_len = 7\n",
    "num_var = 1\n",
    "\n",
    "train_data, test_data = LoadData(seq_len=seq_len, num_var=num_var)\n",
    "train_data, test_data = np.asarray(train_data), np.asarray(test_data)\n",
    "\n",
    "features = train_data.shape[2]\n",
    "\n",
    "print(f\"Train data shape: {train_data.shape}\")\n",
    "\n",
    "batch_size = 32\n",
    "train_data, test_data = train_data.transpose(0,2,1), test_data.transpose(0,2,1)\n",
    "print(f\"Train data shape transposed: {train_data.shape}\")\n",
    "train_loader = torch.utils.data.DataLoader(train_data, batch_size)\n",
    "test_loader = torch.utils.data.DataLoader(test_data, len(test_data))\n",
    "\n",
    "real_data = next(iter(train_loader))\n",
    "print(f\"batched data shape: {real_data.shape}\")\n",
    "\n",
    "\n",
    "for batch in real_data:\n",
    "    print(batch)\n",
    "    break"
   ]
  },
  {
   "cell_type": "code",
   "execution_count": 133,
   "metadata": {},
   "outputs": [],
   "source": [
    "class Diffusion:\n",
    "    def __init__(self, total_steps=1000, beta_start=1e-4, beta_end=0.02, device=\"cpu\"):\n",
    "        self.total_steps = total_steps\n",
    "        self.beta_start = beta_start\n",
    "        self.beta_end = beta_end\n",
    "        self.device = device\n",
    "        \n",
    "        self.betas = self.linear_noise_schedule()\n",
    "        self.alphas = 1.0 - self.betas\n",
    "        self.alphas_cumprod = torch.cumprod(self.alphas, dim=0).to(device)\n",
    "                \n",
    "    def linear_noise_schedule(self):\n",
    "        scale = 1000 / self.total_steps\n",
    "        beta_start = scale * self.beta_start\n",
    "        beta_end = scale * self.beta_end\n",
    "        betas = torch.linspace(beta_start, beta_end, self.total_steps)\n",
    "        \n",
    "        return betas\n",
    "    \n",
    "    def forward_process(self, x, t):\n",
    "        # print(f\"Device x:{x.device}\")\n",
    "        sqrt_alpha_cumprod = torch.sqrt(self.alphas_cumprod[t])[:, None]\n",
    "        sqrt_alpha_cumprod = torch.sqrt(self.alphas_cumprod[t])[:, None].unsqueeze(-1)\n",
    "        sqrt_one_minus_alpha_cumprod = torch.sqrt(1 - self.alphas_cumprod[t])[:, None]\n",
    "        sqrt_one_minus_alpha_cumprod = torch.sqrt(1 - self.alphas_cumprod[t])[:, None].unsqueeze(-1)\n",
    "        # print(f\"shape sqrt_alpha_cumprod:{sqrt_alpha_cumprod.shape}\")\n",
    "        # print(f\"shape sqrt_alpha_cumprod:{sqrt_alpha_cumprod.unsqueeze(-1).shape}\")\n",
    "        # print(f\"shape sqrt_one_minus_alpha_cumprod:{sqrt_one_minus_alpha_cumprod.shape}\")\n",
    "        \n",
    "        noise = torch.randn_like(x)\n",
    "        # print(f\"shape noise: {noise.shape}\")\n",
    "        noisy_x = sqrt_alpha_cumprod * x + sqrt_one_minus_alpha_cumprod * noise\n",
    "        \n",
    "        return noisy_x, noise \n",
    "    \n",
    "    def reverse_process(self, epsilon_theta, x_t, t):\n",
    "        betas = self.betas.to(self.device)\n",
    "        alphas = self.alphas.to(self.device)\n",
    "        sqrt_alpha_t = torch.sqrt(alphas[t])[:, None]\n",
    "        print(f\"reverse process sqrt_alpha_t shape: {sqrt_alpha_t.shape}\")\n",
    "        betas_t = betas[t][:, None]\n",
    "        print(f\"reverse process betas_t shape: {betas_t.shape}\")\n",
    "        sqrt_one_minus_alpha_cumpord_t = torch.sqrt(1 - self.alphas_cumprod[t])[:, None]\n",
    "        print(f\"reverse process sqrt_one_minus_alpha_cumpord_t shape: {sqrt_one_minus_alpha_cumpord_t.shape}\")\n",
    "        epsilon_t = torch.sqrt(betas[t][:, None])\n",
    "        print(f\"reverse process epsilon_t shape: {epsilon_t.shape}\")\n",
    "        \n",
    "        random_noise = torch.randn_like(x_t)\n",
    "        random_noise[t == 0] = 0.0\n",
    "        print(f\"reverse process random_noise shape: {random_noise.shape}\")\n",
    "        \n",
    "        model_mean = ((1 / sqrt_alpha_t) * (x_t - (betas_t * epsilon_theta / sqrt_one_minus_alpha_cumpord_t))) #this seems wrong\n",
    "        print(f\"reverse process model_mean shape: {model_mean.shape}\")\n",
    "        prev_x_t = model_mean + (epsilon_t * random_noise)\n",
    "        \n",
    "        return prev_x_t\n",
    "        \n",
    "    def sample_timestep(self, num_time_steps):\n",
    "        t = torch.randint(low=1, high=self.total_steps, size=(num_time_steps,), device=self.device)\n",
    "        return t"
   ]
  },
  {
   "cell_type": "code",
   "execution_count": 134,
   "metadata": {},
   "outputs": [],
   "source": [
    "### Viz forward process\n",
    "# diff = Diffusion()\n",
    "\n",
    "# x_values = [0, 100, 200, 400, 600, 800, 999]\n",
    "# fig, axes = plt.subplots(1, len(x_values), figsize=(30, 5))\n",
    "\n",
    "# print(f\"shape of batch: {batch.shape}\")\n",
    "\n",
    "# for i, x in enumerate(x_values):\n",
    "#     noisy_ts, noise = diff.forward_process(batch, [x])\n",
    "#     axes[i].plot(noisy_ts)\n",
    "#     axes[i].set_title(f\"x = {x}\")\n",
    "#     axes[i].set_xlabel(\"Time\")\n",
    "#     axes[i].set_ylabel(\"Value\")\n",
    "\n",
    "# plt.tight_layout()\n",
    "# plt.show()"
   ]
  },
  {
   "cell_type": "code",
   "execution_count": 135,
   "metadata": {},
   "outputs": [],
   "source": [
    "epochs = 50\n",
    "#device = \"cuda:0\"\n",
    "device = \"cpu\"\n",
    "learning_rate = 1e-4\n",
    "\n",
    "epsilon_theta = TransEncoder()\n",
    "diffuser = Diffusion()\n",
    "\n",
    "optimizer = optim.Adam(epsilon_theta.parameters(), lr=learning_rate)\n",
    "loss_fnc = nn.MSELoss()"
   ]
  },
  {
   "cell_type": "code",
   "execution_count": 136,
   "metadata": {},
   "outputs": [
    {
     "name": "stderr",
     "output_type": "stream",
     "text": [
      "  2%|▏         | 1/50 [00:08<06:32,  8.01s/it]"
     ]
    },
    {
     "name": "stdout",
     "output_type": "stream",
     "text": [
      "Epoch 0, Loss: 0.1969\n"
     ]
    },
    {
     "name": "stderr",
     "output_type": "stream",
     "text": [
      " 22%|██▏       | 11/50 [01:23<04:54,  7.54s/it]"
     ]
    },
    {
     "name": "stdout",
     "output_type": "stream",
     "text": [
      "Epoch 10, Loss: 0.0297\n"
     ]
    },
    {
     "name": "stderr",
     "output_type": "stream",
     "text": [
      " 42%|████▏     | 21/50 [02:38<03:36,  7.46s/it]"
     ]
    },
    {
     "name": "stdout",
     "output_type": "stream",
     "text": [
      "Epoch 20, Loss: 0.0191\n"
     ]
    },
    {
     "name": "stderr",
     "output_type": "stream",
     "text": [
      " 62%|██████▏   | 31/50 [03:54<02:24,  7.58s/it]"
     ]
    },
    {
     "name": "stdout",
     "output_type": "stream",
     "text": [
      "Epoch 30, Loss: 0.0200\n"
     ]
    },
    {
     "name": "stderr",
     "output_type": "stream",
     "text": [
      " 82%|████████▏ | 41/50 [05:12<01:07,  7.55s/it]"
     ]
    },
    {
     "name": "stdout",
     "output_type": "stream",
     "text": [
      "Epoch 40, Loss: 0.0207\n"
     ]
    },
    {
     "name": "stderr",
     "output_type": "stream",
     "text": [
      "100%|██████████| 50/50 [06:19<00:00,  7.59s/it]\n"
     ]
    }
   ],
   "source": [
    "train_epoch_losses = []\n",
    "\n",
    "epsilon_theta = epsilon_theta.to(device)\n",
    "epsilon_theta.train()\n",
    "\n",
    "pbar = tqdm(iterable=range(epochs), position=0, leave=True)\n",
    "\n",
    "for epoch in pbar:\n",
    "    batch_losses = []\n",
    "    \n",
    "    for batch in train_loader:\n",
    "        batch = batch.to(device)\n",
    "        \n",
    "        timesteps = diffuser.sample_timestep(batch.shape[0])\n",
    "\n",
    "        #forward process\n",
    "        batch_noise_t, noise_t = diffuser.forward_process(batch, timesteps)\n",
    "        #print(f\"batch shape: {batch.shape}\")\n",
    "        # print(f\"noised batch shape: {batch_noise_t.shape}\")\n",
    "        #predict noise\n",
    "        predicted_noise = epsilon_theta(batch_noise_t, timesteps)\n",
    "        \n",
    "        batch_loss = loss_fnc(input=noise_t, target=predicted_noise)\n",
    "        \n",
    "        optimizer.zero_grad()\n",
    "        batch_loss.backward()\n",
    "        optimizer.step()\n",
    "        \n",
    "        batch_losses.append(batch_loss.detach().cpu().numpy())\n",
    "        \n",
    "    batch_losses_mean = np.mean(np.array(batch_losses))\n",
    "    train_epoch_losses.append(batch_losses_mean)\n",
    "    \n",
    "    if epoch % 10 == 0:\n",
    "        print(f\"Epoch {epoch}, Loss: {batch_losses_mean:.4f}\")"
   ]
  },
  {
   "cell_type": "code",
   "execution_count": 137,
   "metadata": {},
   "outputs": [
    {
     "data": {
      "text/plain": [
       "[<matplotlib.lines.Line2D at 0x2a503fd1cc0>]"
      ]
     },
     "execution_count": 137,
     "metadata": {},
     "output_type": "execute_result"
    },
    {
     "data": {
      "image/png": "[encoded data removed]",
      "text/plain": [
       "<Figure size 640x480 with 1 Axes>"
      ]
     },
     "metadata": {},
     "output_type": "display_data"
    }
   ],
   "source": [
    "plt.plot(train_epoch_losses)"
   ]
  },
  {
   "cell_type": "code",
   "execution_count": 138,
   "metadata": {},
   "outputs": [],
   "source": [
    "@torch.no_grad()\n",
    "def generate_new_samples(epsilon_theta, diffuser, features, num_samples, diffusion_steps, device):\n",
    "    random_noise_samples = torch.randn((num_samples, features, seq_len)).to(device)\n",
    "    \n",
    "    print(f\"shape of random noise: {random_noise_samples.shape}\")\n",
    "    pbar = tqdm(iterable=reversed(range(0, diffusion_steps)))\n",
    "    for i in pbar:\n",
    "        pbar.set_description(f\"SAMPLING STEP: {i:4d}\")\n",
    "        \n",
    "        t = torch.full((num_samples,), i, dtype=torch.long).to(device)\n",
    "        print(f\"time step shape: {t.shape}\")\n",
    "        # print(f\"Device random_noise_samples:{random_noise_samples.device}\")\n",
    "        # print(f\"Device t:{t.device}\")\n",
    "        # print(f\"Device model:{diffuser.device}\")\n",
    "        predicted_noise = epsilon_theta(random_noise_samples.float(), t) #num_samples, num_var, seq_len\n",
    "        print(f\"predicted_noise shape: {predicted_noise.shape}\")\n",
    "        z_norm = diffuser.reverse_process(predicted_noise, random_noise_samples, t)\n",
    "        break\n",
    "        \n",
    "    return z_norm\n",
    "    "
   ]
  },
  {
   "cell_type": "code",
   "execution_count": 139,
   "metadata": {},
   "outputs": [
    {
     "name": "stdout",
     "output_type": "stream",
     "text": [
      "shape of random noise: torch.Size([100, 1, 7])\n"
     ]
    },
    {
     "name": "stderr",
     "output_type": "stream",
     "text": [
      "SAMPLING STEP:  199: : 0it [00:00, ?it/s]"
     ]
    },
    {
     "name": "stdout",
     "output_type": "stream",
     "text": [
      "time step shape: torch.Size([100])\n",
      "predicted_noise shape: torch.Size([100, 1, 7])\n",
      "reverse process sqrt_alpha_t shape: torch.Size([100, 1])\n",
      "reverse process betas_t shape: torch.Size([100, 1])\n",
      "reverse process sqrt_one_minus_alpha_cumpord_t shape: torch.Size([100, 1])\n",
      "reverse process epsilon_t shape: torch.Size([100, 1])\n",
      "reverse process random_noise shape: torch.Size([100, 1, 7])\n",
      "reverse process model_mean shape: torch.Size([100, 100, 7])\n"
     ]
    },
    {
     "name": "stderr",
     "output_type": "stream",
     "text": [
      "\n"
     ]
    }
   ],
   "source": [
    "new_data = generate_new_samples(epsilon_theta, diffuser, features=num_var, num_samples=100, diffusion_steps=200, device=device)\n",
    "new_data = new_data.to(\"cpu\")\n",
    "#plt.plot(new_data)"
   ]
  }
 ],
 "metadata": {
  "kernelspec": {
   "display_name": "hf_diff",
   "language": "python",
   "name": "python3"
  },
  "language_info": {
   "codemirror_mode": {
    "name": "ipython",
    "version": 3
   },
   "file_extension": ".py",
   "mimetype": "text/x-python",
   "name": "python",
   "nbconvert_exporter": "python",
   "pygments_lexer": "ipython3",
   "version": "3.10.15"
  }
 },
 "nbformat": 4,
 "nbformat_minor": 2
}
